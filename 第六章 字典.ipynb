{
 "cells": [
  {
   "cell_type": "code",
   "execution_count": 3,
   "metadata": {},
   "outputs": [
    {
     "name": "stdout",
     "output_type": "stream",
     "text": [
      "green\n",
      "5\n"
     ]
    }
   ],
   "source": [
    "#字典举例\n",
    "alien_0 = {'color':'green','point':'5'}\n",
    "\n",
    "print(alien_0['color'])\n",
    "print(alien_0['point'])\n",
    "#字典 是一系列键键—值对值对 。每个键都与一个值相关联，你可以使用键来访问与之相关联的值。与键相关联的值可以是数字、字符串、列表乃至字典。事实上，可将任何Python对象用作字典中的值。\n",
    "#键和值之间用冒号分隔，而键—值对之间用逗号分隔"
   ]
  },
  {
   "cell_type": "code",
   "execution_count": 5,
   "metadata": {},
   "outputs": [
    {
     "name": "stdout",
     "output_type": "stream",
     "text": [
      "You just earned 5 points!\n"
     ]
    }
   ],
   "source": [
    "alien_0 = {'color':'green','point':'5'}\n",
    "new_points = alien_0['point']\n",
    "print(\"You just earned \" + str(new_points) + \" points!\")"
   ]
  },
  {
   "cell_type": "code",
   "execution_count": 7,
   "metadata": {},
   "outputs": [
    {
     "name": "stdout",
     "output_type": "stream",
     "text": [
      "{'color': 'green', 'points': 5}\n",
      "{'color': 'green', 'points': 5, 'x_position': 0, 'y_position': 25}\n"
     ]
    }
   ],
   "source": [
    "#为字典添加键值对\n",
    "alien_0 = {'color': 'green', 'points': 5}\n",
    "print(alien_0)\n",
    "\n",
    "alien_0['x_position']=0\n",
    "alien_0['y_position']=25\n",
    "print(alien_0)\n",
    "#Python不关心键—值对的添加顺序，而只关心键和值之间的关联关系"
   ]
  },
  {
   "cell_type": "code",
   "execution_count": 8,
   "metadata": {},
   "outputs": [
    {
     "name": "stdout",
     "output_type": "stream",
     "text": [
      "{'color': 'green', 'point': 5}\n"
     ]
    }
   ],
   "source": [
    "# 创建一个空字典,并添加键值对\n",
    "alien_0={}\n",
    "alien_0['color']='green'\n",
    "alien_0['point']=5\n",
    "print(alien_0)"
   ]
  },
  {
   "cell_type": "code",
   "execution_count": 12,
   "metadata": {},
   "outputs": [
    {
     "name": "stdout",
     "output_type": "stream",
     "text": [
      "The alien is green.\n",
      "The alien is now yellow.\n"
     ]
    }
   ],
   "source": [
    "#修改字典中的值\n",
    "alien_0 = {'color':'green'}\n",
    "print(\"The alien is \"+alien_0['color']+\".\")\n",
    "\n",
    "alien_0['color']='yellow'\n",
    "print(\"The alien is now \"+alien_0['color']+\".\")"
   ]
  },
  {
   "cell_type": "code",
   "execution_count": 13,
   "metadata": {},
   "outputs": [
    {
     "name": "stdout",
     "output_type": "stream",
     "text": [
      "Original x-position: 0\n",
      "New x-position: 2\n"
     ]
    }
   ],
   "source": [
    "alien_0 = {'x_position': 0, 'y_position': 25, 'speed': 'medium'}\n",
    "print(\"Original x-position: \" + str(alien_0['x_position']))\n",
    "# 向右移动外星人\n",
    "# 据外星人当前速度决定将其移动多远\n",
    "if alien_0['speed'] == 'slow':\n",
    "    x_increase = 1\n",
    "elif alien_0['speed'] == 'medium':\n",
    "    x_increase = 2\n",
    "else:\n",
    "    #这个计算机速度一定很快\n",
    "    x_increase = 3\n",
    "alien_0['x_position'] = alien_0['x_position']+x_increase\n",
    "print(\"New x-position: \" + str(alien_0['x_position']))"
   ]
  },
  {
   "cell_type": "code",
   "execution_count": 2,
   "metadata": {},
   "outputs": [
    {
     "name": "stdout",
     "output_type": "stream",
     "text": [
      "{'color': 'green', 'points': 5}\n",
      "{'color': 'green'}\n"
     ]
    }
   ],
   "source": [
    "#删除键值对\n",
    "alien_0 = {'color': 'green', 'points': 5}\n",
    "print(alien_0)\n",
    "\n",
    "del alien_0['points']\n",
    "print(alien_0)"
   ]
  },
  {
   "cell_type": "code",
   "execution_count": 4,
   "metadata": {},
   "outputs": [
    {
     "name": "stdout",
     "output_type": "stream",
     "text": [
      "Sarah's favorite language is C.\n"
     ]
    }
   ],
   "source": [
    "favorite_languages={\n",
    "    'jen':'python',\n",
    "    'sarah':'c',\n",
    "    'edward':'ruby',\n",
    "    'phil':'python',\n",
    "}\n",
    "\n",
    "print(\"Sarah's favorite language is \" + favorite_languages['sarah'].title() + \".\")"
   ]
  },
  {
   "cell_type": "markdown",
   "metadata": {},
   "source": [
    "### 练习"
   ]
  },
  {
   "cell_type": "markdown",
   "metadata": {},
   "source": [
    "#### 6-1 人\n",
    "    使用一个字典来存储一个熟人的信息，包括名、姓、年龄和居住的城市。该字典应包含键first_name 、last_name 、age 和city 。将存储在该字典中的每项信息都打印出来。\n",
    "#### 6-2 喜欢的数字\n",
    "    喜欢的数字 ：使用一个字典来存储一些人喜欢的数字。请想出5个人的名字，并将这些名字用作字典中的键；想出每个人喜欢的一个数字，并将这些数字作为值存储在字典中。打印每个人的名字和喜欢的数字。为让这个程序更有趣，通过询问朋友确保数据是真实的。\n",
    "#### 6-3 词汇表\n",
    "    Python字典可用于模拟现实生活中的字典，但为避免混淆，我们将后者称为词汇表。\n",
    "    想出你在前面学过的5个编程词汇，将它们用作词汇表中的键，并将它们的含义作为值存储在词汇表中。\n",
    "    以整洁的方式打印每个词汇及其含义。为此，你可以先打印词汇，在它后面加上一个冒号，再打印词汇的含义；也可在一行打印词汇，再使用换行符（\\n ）插入一个空行，然后在下一行以缩进的方式打印词汇的含义。"
   ]
  },
  {
   "cell_type": "code",
   "execution_count": 5,
   "metadata": {},
   "outputs": [
    {
     "name": "stdout",
     "output_type": "stream",
     "text": [
      "{'first_name': 'Jason', 'last_name': 'Tian', 'age': '22', 'city': 'Ningxia'}\n"
     ]
    }
   ],
   "source": [
    "# 6-1\n",
    "person = {\n",
    "    'first_name':'Jason',\n",
    "    'last_name':'Tian',\n",
    "    'age':'22',\n",
    "    'city':'Ningxia',\n",
    "}\n",
    "\n",
    "print(person)"
   ]
  },
  {
   "cell_type": "code",
   "execution_count": 7,
   "metadata": {},
   "outputs": [
    {
     "name": "stdout",
     "output_type": "stream",
     "text": [
      "{'jen': 2, 'sarah': 3, 'edward': 4, 'phil': 3}\n"
     ]
    }
   ],
   "source": [
    "# 6-2\n",
    "favorite_numbers={\n",
    "    'jen':2,\n",
    "    'sarah':3,\n",
    "    'edward':4,\n",
    "    'phil':3,\n",
    "}\n",
    "print(favorite_numbers)"
   ]
  },
  {
   "cell_type": "markdown",
   "metadata": {},
   "source": [
    "### 6.3 遍历字典"
   ]
  },
  {
   "cell_type": "code",
   "execution_count": 9,
   "metadata": {},
   "outputs": [
    {
     "name": "stdout",
     "output_type": "stream",
     "text": [
      "\n",
      "Key: username\n",
      "Value: efermi\n",
      "\n",
      "Key: first\n",
      "Value: enrico\n",
      "\n",
      "Key: last\n",
      "Value: fermi\n"
     ]
    }
   ],
   "source": [
    "user_0 = {\n",
    "'username': 'efermi',\n",
    "'first': 'enrico',\n",
    "'last': 'fermi',\n",
    "}\n",
    "# 方法items() ，它返回一个键—值对列表\n",
    "for key,value in user_0.items():\n",
    "    print(\"\\nKey: \"+key)\n",
    "    print(\"Value: \"+ value)"
   ]
  },
  {
   "cell_type": "code",
   "execution_count": 10,
   "metadata": {},
   "outputs": [
    {
     "name": "stdout",
     "output_type": "stream",
     "text": [
      "dict_items([('username', 'efermi'), ('first', 'enrico'), ('last', 'fermi')])\n"
     ]
    }
   ],
   "source": [
    "print(user_0.items())"
   ]
  },
  {
   "cell_type": "code",
   "execution_count": 15,
   "metadata": {},
   "outputs": [
    {
     "name": "stdout",
     "output_type": "stream",
     "text": [
      "Jen's favorite language is Python.\n",
      "Sarah's favorite language is C.\n",
      "Edward's favorite language is Ruby.\n",
      "Phil's favorite language is Python.\n"
     ]
    }
   ],
   "source": [
    "favorite_languages = {\n",
    "'jen': 'python',\n",
    "'sarah': 'c',\n",
    "'edward': 'ruby',\n",
    "'phil': 'python',\n",
    "}\n",
    "for name,language in favorite_languages.items():\n",
    "    print(name.title()+\"'s favorite language is \"+language.title()+\".\")"
   ]
  },
  {
   "cell_type": "code",
   "execution_count": 17,
   "metadata": {},
   "outputs": [
    {
     "name": "stdout",
     "output_type": "stream",
     "text": [
      "Jen\n",
      "Sarah\n",
      "Edward\n",
      "Phil\n"
     ]
    }
   ],
   "source": [
    "favorite_languages = {\n",
    "'jen': 'python',\n",
    "'sarah': 'c',\n",
    "'edward': 'ruby',\n",
    "'phil': 'python',\n",
    "}\n",
    "#不需要使用字典中的值时，方法keys() 很有用\n",
    "for key in favorite_languages.keys():\n",
    "    print(key.title())\n",
    "#遍历字典时，会默认遍历所有的键,如果将上述代码中的for name in favorite_languages.keys(): 替换为for name in favorite_languages: ，输出将不变。"
   ]
  },
  {
   "cell_type": "code",
   "execution_count": 19,
   "metadata": {},
   "outputs": [
    {
     "name": "stdout",
     "output_type": "stream",
     "text": [
      "Jen\n",
      "Hi Jen, I see your favorite language is Python!\n",
      "Sarah\n",
      "Edward\n",
      "Phil\n",
      "Hi Phil, I see your favorite language is Python!\n"
     ]
    }
   ],
   "source": [
    "favorite_languages = {\n",
    "'jen': 'python',\n",
    "'sarah': 'c',\n",
    "'edward': 'ruby',\n",
    "'phil': 'python',\n",
    "}\n",
    "friends = ['phil','jen']\n",
    "for name in favorite_languages.keys():\n",
    "    print(name.title())\n",
    "    if name in friends:\n",
    "        print(\"Hi \"+name.title()+\", I see your favorite language is \"+favorite_languages[name].title()+\"!\")\n",
    "#在循环中，我们打印每个人的名字，并检查当前的名字是否在列表friends 中,如果在列表中，就打印一句特殊的问候语，其中包含这位朋友喜欢的语言。为访问喜欢的语言，我们使用了字典名，并将变量name 的当前值作为键。每个人的名字都会被打印，但只对朋友打印特殊消息"
   ]
  },
  {
   "cell_type": "code",
   "execution_count": 20,
   "metadata": {},
   "outputs": [
    {
     "name": "stdout",
     "output_type": "stream",
     "text": [
      "dict_keys(['jen', 'sarah', 'edward', 'phil'])\n"
     ]
    }
   ],
   "source": [
    "print(favorite_languages.keys())"
   ]
  },
  {
   "cell_type": "markdown",
   "metadata": {},
   "source": [
    "### 6.3.3 按顺序遍历字典中所有的键 (在遍历时python不关心键值对的顺序)\n"
   ]
  },
  {
   "cell_type": "code",
   "execution_count": 21,
   "metadata": {},
   "outputs": [
    {
     "name": "stdout",
     "output_type": "stream",
     "text": [
      "Edward ,thank you for taking the poll\n",
      "Jen ,thank you for taking the poll\n",
      "Phil ,thank you for taking the poll\n",
      "Sarah ,thank you for taking the poll\n"
     ]
    }
   ],
   "source": [
    "favorite_languages = {\n",
    "'jen': 'python',\n",
    "'sarah': 'c',\n",
    "'edward': 'ruby',\n",
    "'phil': 'python',\n",
    "}\n",
    "for name in sorted(favorite_languages):\n",
    "    print(name.title()+\" ,thank you for taking the poll\")"
   ]
  },
  {
   "cell_type": "markdown",
   "metadata": {},
   "source": [
    "### 6.3.4 遍历字典中所有的值"
   ]
  },
  {
   "cell_type": "code",
   "execution_count": 22,
   "metadata": {},
   "outputs": [
    {
     "name": "stdout",
     "output_type": "stream",
     "text": [
      "The following languages have been mentioned:\n",
      "Python\n",
      "C\n",
      "Ruby\n",
      "Python\n"
     ]
    }
   ],
   "source": [
    "favorite_languages = {\n",
    "'jen': 'python',\n",
    "'sarah': 'c',\n",
    "'edward': 'ruby',\n",
    "'phil': 'python',\n",
    "}\n",
    "print(\"The following languages have been mentioned:\")\n",
    "for v in favorite_languages.values():\n",
    "    print(v.title())"
   ]
  },
  {
   "cell_type": "code",
   "execution_count": 23,
   "metadata": {},
   "outputs": [
    {
     "name": "stdout",
     "output_type": "stream",
     "text": [
      "The following languages have been mentioned:\n",
      "Ruby\n",
      "C\n",
      "Python\n"
     ]
    }
   ],
   "source": [
    "#为了去除重复的元素可以使用set(集合)\n",
    "favorite_languages = {\n",
    "'jen': 'python',\n",
    "'sarah': 'c',\n",
    "'edward': 'ruby',\n",
    "'phil': 'python',\n",
    "}\n",
    "print(\"The following languages have been mentioned:\")\n",
    "for v in set(favorite_languages.values()):\n",
    "    print(v.title())"
   ]
  },
  {
   "cell_type": "markdown",
   "metadata": {},
   "source": [
    "### 练习"
   ]
  },
  {
   "cell_type": "markdown",
   "metadata": {},
   "source": [
    "#### 6-4 词汇表\n",
    "    词汇表2 ：既然你知道了如何遍历字典，现在请整理你为完成练习6-3而编写的代码，将其中的一系列print 语句替换为一个遍历字典中的键和值的循环。确定该循环正确无误后，再在词汇表中添加5个Python术语。当你再次运行这个程序时，这些新术语及其含义将自动包含在输出中。\n",
    "#### 6-5 河流\n",
    "    河流 ：创建一个字典，在其中存储三条大河流及其流经的国家。其中一个键—值对可能是'nile': 'egypt' 。\n",
    "    使用循环为每条河流打印一条消息，如“The Nile runs through Egypt.”。\n",
    "    使用循环将该字典中每条河流的名字都打印出来。\n",
    "    使用循环将该字典包含的每个国家的名字都打印出来。\n",
    "#### 6-6 调查\n",
    "    调查 ：在6.3.1节编写的程序favorite_languages.py中执行以下操作。\n",
    "    创建一个应该会接受调查的人员名单，其中有些人已包含在字典中，而其他人未包含在字典中。\n",
    "    遍历这个人员名单，对于已参与调查的人，打印一条消息表示感谢。对于还未参与调查的人，打印一条消息邀请他参与调查。"
   ]
  },
  {
   "cell_type": "code",
   "execution_count": null,
   "metadata": {},
   "outputs": [],
   "source": []
  },
  {
   "cell_type": "markdown",
   "metadata": {},
   "source": [
    "### 6.4 嵌套"
   ]
  },
  {
   "cell_type": "code",
   "execution_count": 25,
   "metadata": {},
   "outputs": [
    {
     "name": "stdout",
     "output_type": "stream",
     "text": [
      "{'color': 'green', 'point': 5}\n",
      "{'color': 'yellow', 'point': 10}\n",
      "{'color': 'red', 'point': 15}\n"
     ]
    }
   ],
   "source": [
    "#需要将一系列字典存储在列表中，或将列表作为值存储在字典中，这称为嵌套。可以在列表中嵌套字典、在字典中嵌套列表甚至在字典中嵌套字典。\n",
    "#字典alien_0 包含一个外星人的各种信息，但无法存储第二个外星人的信息，更别说屏幕上全部外星人的信息了。如何管理成群结队的外星人呢？一种办法是创建一个外星人列表，其中每个外星人都是一个字典，包含有关该外星人的各种信息。例如，下面的代码创建一个包含三个外星人的列表：\n",
    "alien_0 = {'color':'green','point':5}\n",
    "alien_1 = {'color':'yellow','point':10}\n",
    "alien_2 = {'color':'red','point':15}\n",
    "aliens = [alien_0,alien_1,alien_2]\n",
    "for alien in aliens:\n",
    "    print(alien)\n",
    "#首先创建了三个字典，其中每个字典都表示一个外星人。在处，我们将这些字典都放到一个名为aliens 的列表中。最后，我们遍历这个列表，并将每个外星人都打印出来"
   ]
  },
  {
   "cell_type": "code",
   "execution_count": 27,
   "metadata": {},
   "outputs": [
    {
     "name": "stdout",
     "output_type": "stream",
     "text": [
      "{'color': 'green', 'points': 5, 'speed': 'slow'}\n",
      "{'color': 'green', 'points': 5, 'speed': 'slow'}\n",
      "{'color': 'green', 'points': 5, 'speed': 'slow'}\n",
      "{'color': 'green', 'points': 5, 'speed': 'slow'}\n",
      "{'color': 'green', 'points': 5, 'speed': 'slow'}\n",
      "...\n",
      "Total number of aliens: 30\n"
     ]
    }
   ],
   "source": [
    "#更符合现实的情形是，外星人不止三个，且每个外星人都是使用代码自动生成的。在下面的示例中，我们使用range() 生成了30个外星人：\n",
    "aliens = []\n",
    "for alien_number in range(30):\n",
    "    new_alien = {'color': 'green', 'points': 5, 'speed': 'slow'}\n",
    "    aliens.append(new_alien)\n",
    "#显示前五个\n",
    "for alien in aliens[:5]:\n",
    "    print(alien)\n",
    "print('...')\n",
    "print(\"Total number of aliens: \"+str(len(aliens)))"
   ]
  },
  {
   "cell_type": "code",
   "execution_count": 2,
   "metadata": {},
   "outputs": [
    {
     "name": "stdout",
     "output_type": "stream",
     "text": [
      "Your ordered a thick-crust pizza with the following toppings:\n",
      "\tmushrooms\n",
      "\textra chess\n"
     ]
    }
   ],
   "source": [
    "# 在字典中存储列表\n",
    "pizza = {\n",
    "    'crust':'thick',\n",
    "    'topping':['mushrooms','extra chess'],\n",
    "}\n",
    "\n",
    "print(\"Your ordered a \"+pizza['crust']+\"-crust pizza \"+\"with the following toppings:\")\n",
    "\n",
    "for topping in pizza['topping']:\n",
    "    print(\"\\t\"+topping)"
   ]
  },
  {
   "cell_type": "code",
   "execution_count": 4,
   "metadata": {},
   "outputs": [
    {
     "name": "stdout",
     "output_type": "stream",
     "text": [
      "dict_items([('jen', ['python', 'ruby']), ('sarah', ['c']), ('edward', ['ruby', 'go']), ('phil', ['python', 'haskell'])])\n",
      "\n",
      "Jen's favorite languages are:\n",
      "\tPython\n",
      "\tRuby\n",
      "\n",
      "Sarah's favorite languages are:\n",
      "\tC\n",
      "\n",
      "Edward's favorite languages are:\n",
      "\tRuby\n",
      "\tGo\n",
      "\n",
      "Phil's favorite languages are:\n",
      "\tPython\n",
      "\tHaskell\n"
     ]
    }
   ],
   "source": [
    "favorite_languages = {\n",
    "'jen': ['python', 'ruby'],\n",
    "'sarah': ['c'],\n",
    "'edward': ['ruby', 'go'],\n",
    "'phil': ['python', 'haskell'],\n",
    "}\n",
    "#使用两个for循环来遍历!!!\n",
    "print(favorite_languages.items())\n",
    "for name,language in favorite_languages.items():\n",
    "    print(\"\\n\" + name.title() + \"'s favorite languages are:\")\n",
    "    for language in language:\n",
    "        print(\"\\t\"+language.title())"
   ]
  },
  {
   "cell_type": "code",
   "execution_count": 6,
   "metadata": {},
   "outputs": [
    {
     "name": "stdout",
     "output_type": "stream",
     "text": [
      "dict_items([('aeinstein', {'first': 'albert', 'last': 'einstein', 'location': 'princeton'}), ('mcurie', {'first': 'marie', 'last': 'curie', 'location': 'paris'})])\n",
      "\n",
      "Username: aeinstein\n",
      "\tFull name: Albert Einstein\n",
      "\tLocation: Princeton\n",
      "\n",
      "Username: mcurie\n",
      "\tFull name: Marie Curie\n",
      "\tLocation: Paris\n"
     ]
    }
   ],
   "source": [
    "#在字典中存储字典\n",
    "users = {\n",
    "    'aeinstein': {\n",
    "    'first': 'albert',\n",
    "    'last': 'einstein',\n",
    "    'location': 'princeton',\n",
    "    },\n",
    "    'mcurie': {\n",
    "    'first': 'marie',\n",
    "    'last': 'curie',\n",
    "    'location': 'paris',\n",
    "    },\n",
    "}\n",
    "print(users.items())\n",
    "for username,user_info in users.items():\n",
    "    print(\"\\nUsername: \"+username)\n",
    "    full_name = user_info['first'] + \" \" + user_info['last']\n",
    "    location = user_info['location']\n",
    "    print(\"\\tFull name: \" + full_name.title())\n",
    "    print(\"\\tLocation: \" + location.title())"
   ]
  },
  {
   "cell_type": "code",
   "execution_count": 10,
   "metadata": {},
   "outputs": [
    {
     "name": "stdout",
     "output_type": "stream",
     "text": [
      "dict_items([('aeinstein', {'first': 'albert', 'last': 'einstein', 'location': 'princeton'}), ('mcurie', {'first': 'marie', 'last': 'curie', 'location': 'paris'})])\n",
      "\n",
      "Username: Aeinstein\n",
      "First:Albert\n",
      "Last:Einstein\n",
      "Location:Princeton\n",
      "\n",
      "Username: Mcurie\n",
      "First:Marie\n",
      "Last:Curie\n",
      "Location:Paris\n"
     ]
    }
   ],
   "source": [
    "users = {\n",
    "    'aeinstein': {\n",
    "    'first': 'albert',\n",
    "    'last': 'einstein',\n",
    "    'location': 'princeton',\n",
    "    },\n",
    "    'mcurie': {\n",
    "    'first': 'marie',\n",
    "    'last': 'curie',\n",
    "    'location': 'paris',\n",
    "    },\n",
    "}\n",
    "print(users.items())\n",
    "for username,user_info in users.items():\n",
    "    print(\"\\nUsername: \"+username.title())\n",
    "    for ite,deatial in user_info.items():\n",
    "            print(ite.title()+\":\"+deatial.title())"
   ]
  },
  {
   "cell_type": "markdown",
   "metadata": {},
   "source": [
    "### 练习"
   ]
  },
  {
   "cell_type": "markdown",
   "metadata": {},
   "source": [
    "#### 6-7 人\n",
    "    在为完成练习6-1而编写的程序中，再创建两个表示人的字典，然后将这三个字典都存储在一个名为people 的列表中。遍历这个列表，将其中每个人的所有信息都打印出来。\n",
    "#### 6-8 宠物\n",
    "    创建多个字典，对于每个字典，都使用一个宠物的名称来给它命名；在每个字典中，包含宠物的类型及其主人的名字。将这些字典存储在一个名为pets的列表中，再遍历该列表，并将宠物的所有信息都打印出来。\n",
    "#### 6-9 喜欢的地方\n",
    "    创建一个名为favorite_places 的字典。在这个字典中，将三个人的名字用作键；对于其中的每个人，都存储他喜欢的1~3个地方。为让这个练\n",
    "    习更有趣些，可让一些朋友指出他们喜欢的几个地方。遍历这个字典，并将其中每个人的名字及其喜欢的地方打印出来。\n",
    "#### 6-10 喜欢的数字\n",
    "    喜欢的数字 ：修改为完成练习6-2而编写的程序，让每个人都可以有多个喜欢的数字，然后将每个人的名字及其喜欢的数字打印出来。\n",
    "#### 6-11 城市\n",
    "     创建一个名为cities 的字典，其中将三个城市名用作键；对于每座城市，都创建一个字典，并在其中包含该城市所属的国家、人口约数以及一个有关该城市的事实。在表示每座城市的字典中，应包含country 、population 和fact 等键。将每座城市的名字以及有关它们的信息都打印出来。\n",
    "#### 6-12 扩展\n",
    "    本章的示例足够复杂，可以以很多方式进行扩展了。请对本章的一个示例进行扩展：添加键和值、调整程序要解决的问题或改进输出的格式。"
   ]
  },
  {
   "cell_type": "code",
   "execution_count": null,
   "metadata": {},
   "outputs": [],
   "source": []
  }
 ],
 "metadata": {
  "kernelspec": {
   "display_name": "Python 3",
   "language": "python",
   "name": "python3"
  },
  "language_info": {
   "codemirror_mode": {
    "name": "ipython",
    "version": 3
   },
   "file_extension": ".py",
   "mimetype": "text/x-python",
   "name": "python",
   "nbconvert_exporter": "python",
   "pygments_lexer": "ipython3",
   "version": "3.8.3"
  }
 },
 "nbformat": 4,
 "nbformat_minor": 4
}
