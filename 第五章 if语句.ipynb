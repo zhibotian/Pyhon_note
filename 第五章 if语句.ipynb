{
 "cells": [
  {
   "cell_type": "markdown",
   "metadata": {},
   "source": [
    "## 5.2 条件测试"
   ]
  },
  {
   "cell_type": "code",
   "execution_count": 1,
   "metadata": {},
   "outputs": [
    {
     "name": "stdout",
     "output_type": "stream",
     "text": [
      "Audi\n",
      "BMW\n",
      "Subaru\n",
      "Toyota\n"
     ]
    }
   ],
   "source": [
    "cars = ['audi', 'bmw', 'subaru', 'toyota']\n",
    "for car in cars:\n",
    "    if car == 'bmw':\n",
    "        print(car.upper())\n",
    "    else:\n",
    "        print(car.title())"
   ]
  },
  {
   "cell_type": "code",
   "execution_count": 2,
   "metadata": {},
   "outputs": [
    {
     "data": {
      "text/plain": [
       "True"
      ]
     },
     "execution_count": 2,
     "metadata": {},
     "output_type": "execute_result"
    }
   ],
   "source": [
    "car = 'bmw'\n",
    "car == 'bmw'"
   ]
  },
  {
   "cell_type": "code",
   "execution_count": 3,
   "metadata": {},
   "outputs": [
    {
     "data": {
      "text/plain": [
       "False"
      ]
     },
     "execution_count": 3,
     "metadata": {},
     "output_type": "execute_result"
    }
   ],
   "source": [
    "car = 'audi'\n",
    "car == 'bmw'"
   ]
  },
  {
   "cell_type": "code",
   "execution_count": 6,
   "metadata": {},
   "outputs": [
    {
     "data": {
      "text/plain": [
       "False"
      ]
     },
     "execution_count": 6,
     "metadata": {},
     "output_type": "execute_result"
    }
   ],
   "source": [
    "#在Python中检查是否相等时区分大小写，例如，两个大小写不同的值会被视为不相等：\n",
    "car = 'Audi'\n",
    "car == 'audi'"
   ]
  },
  {
   "cell_type": "code",
   "execution_count": 4,
   "metadata": {},
   "outputs": [
    {
     "data": {
      "text/plain": [
       "True"
      ]
     },
     "execution_count": 4,
     "metadata": {},
     "output_type": "execute_result"
    }
   ],
   "source": [
    "#如果大小写无关紧要，而只想检查变量的值，可将变量的值转换为小写，再进行比较\n",
    "car = 'Audi'\n",
    "car.lower() == 'audi'\n",
    "#函数lower() 不会修改存储在变量car 中的值，因此进行这样的比较时不会影响原来的变量"
   ]
  },
  {
   "cell_type": "code",
   "execution_count": 7,
   "metadata": {},
   "outputs": [
    {
     "name": "stdout",
     "output_type": "stream",
     "text": [
      "Hold the anchovies!\n"
     ]
    }
   ],
   "source": [
    "#检查是否不相等\n",
    "requested_topping = 'mushrooms'\n",
    "if requested_topping != 'anchovies':\n",
    "    print(\"Hold the anchovies!\")"
   ]
  },
  {
   "cell_type": "code",
   "execution_count": 8,
   "metadata": {},
   "outputs": [
    {
     "name": "stdout",
     "output_type": "stream",
     "text": [
      "That is not the correct answer. Please try again!\n"
     ]
    }
   ],
   "source": [
    "#比较数字\n",
    "answer = 17\n",
    "if answer != 42:\n",
    "    print(\"That is not the correct answer. Please try again!\")\n"
   ]
  },
  {
   "cell_type": "code",
   "execution_count": 9,
   "metadata": {},
   "outputs": [
    {
     "data": {
      "text/plain": [
       "False"
      ]
     },
     "execution_count": 9,
     "metadata": {},
     "output_type": "execute_result"
    }
   ],
   "source": [
    "#检测多个条件\n",
    "#使用and\n",
    "age_0 = 22\n",
    "age_1 = 18\n",
    "age_0 >= 21 and age_1 >= 21"
   ]
  },
  {
   "cell_type": "code",
   "execution_count": 10,
   "metadata": {},
   "outputs": [
    {
     "data": {
      "text/plain": [
       "True"
      ]
     },
     "execution_count": 10,
     "metadata": {},
     "output_type": "execute_result"
    }
   ],
   "source": [
    "age_1 = 21\n",
    "age_0 >= 21 and age_1 >= 21"
   ]
  },
  {
   "cell_type": "code",
   "execution_count": 13,
   "metadata": {},
   "outputs": [
    {
     "data": {
      "text/plain": [
       "True"
      ]
     },
     "execution_count": 13,
     "metadata": {},
     "output_type": "execute_result"
    }
   ],
   "source": [
    "#使用or检测多个条件\n",
    "age_0 = 22\n",
    "age_1 = 18\n",
    "age_0 >= 21 or age_1 >= 21"
   ]
  },
  {
   "cell_type": "code",
   "execution_count": 12,
   "metadata": {},
   "outputs": [
    {
     "data": {
      "text/plain": [
       "False"
      ]
     },
     "execution_count": 12,
     "metadata": {},
     "output_type": "execute_result"
    }
   ],
   "source": [
    "age_0 = 18\n",
    "age_0 >= 21 or age_1 >= 21"
   ]
  },
  {
   "cell_type": "code",
   "execution_count": 15,
   "metadata": {},
   "outputs": [
    {
     "data": {
      "text/plain": [
       "False"
      ]
     },
     "execution_count": 15,
     "metadata": {},
     "output_type": "execute_result"
    }
   ],
   "source": [
    "#检查特定值是否包含在列表中\n",
    "requested_toppings = ['mushrooms', 'onions', 'pineapple']\n",
    "'mushrooms' in requested_toppings"
   ]
  },
  {
   "cell_type": "code",
   "execution_count": 16,
   "metadata": {},
   "outputs": [
    {
     "data": {
      "text/plain": [
       "False"
      ]
     },
     "execution_count": 16,
     "metadata": {},
     "output_type": "execute_result"
    }
   ],
   "source": [
    "requested_toppings = ['mushrooms', 'onions', 'pineapple']\n",
    "'pepperoni' in requested_toppings"
   ]
  },
  {
   "cell_type": "code",
   "execution_count": 17,
   "metadata": {},
   "outputs": [
    {
     "name": "stdout",
     "output_type": "stream",
     "text": [
      "Marie, you can post a response if you wish.\n"
     ]
    }
   ],
   "source": [
    "#检查特定值是否不包含在列表中\n",
    "banned_users = ['andrew', 'carolina', 'david']\n",
    "user = 'marie'\n",
    "if user not in banned_users:\n",
    "    print(user.title() + \", you can post a response if you wish.\")"
   ]
  },
  {
   "cell_type": "code",
   "execution_count": 18,
   "metadata": {},
   "outputs": [],
   "source": [
    "#布尔表达式\n",
    "game_active = True\n",
    "can_edit = False"
   ]
  },
  {
   "cell_type": "markdown",
   "metadata": {},
   "source": [
    "## 练习"
   ]
  },
  {
   "cell_type": "markdown",
   "metadata": {},
   "source": [
    "### 5-1 条件测试\n",
    "    编写一系列条件测试；将每个测试以及你对其结果的预测和实际结果都打印出来。你编写的代码应类似于下面这样：\n",
    "    car = 'subaru'\n",
    "    print(\"Is car == 'subaru'? I predict True.\")\n",
    "    print(car == 'subaru')\n",
    "    print(\"\\nIs car == 'audi'? I predict False.\")\n",
    "    print(car == 'audi')\n",
    "#### 5-2 更多的条件测试\n",
    "    你并非只能创建10个测试。如果你想尝试做更多的比较，可再编写一些测试，并将它们加入到conditional_tests.py中。对于下面列出的各种测\n",
    "    试，至少编写一个结果为True 和False 的测试。\n",
    "    检查两个字符串相等和不等。\n",
    "    使用函数lower() 的测试。\n",
    "    检查两个数字相等、不等、大于、小于、大于等于和小于等于。\n",
    "    使用关键字and 和or 的测试。\n",
    "    测试特定的值是否包含在列表中。\n",
    "    测试特定的值是否未包含在列表中。"
   ]
  },
  {
   "cell_type": "code",
   "execution_count": 2,
   "metadata": {},
   "outputs": [
    {
     "name": "stdout",
     "output_type": "stream",
     "text": [
      "Is name == 'Jason',I predict True.\n",
      "True\n",
      "Is name == 'Ray',I predict False.\n",
      "False\n"
     ]
    }
   ],
   "source": [
    "#5-1\n",
    "name = 'Jason'\n",
    "print(\"Is name == 'Jason',I predict True.\")\n",
    "print(name == 'Jason')\n",
    "print(\"Is name == 'Ray',I predict False.\")\n",
    "print(name == 'Ray')"
   ]
  },
  {
   "cell_type": "code",
   "execution_count": 3,
   "metadata": {},
   "outputs": [
    {
     "name": "stdout",
     "output_type": "stream",
     "text": [
      "False\n",
      "True\n",
      "\n",
      "\n",
      "True\n",
      "False\n",
      "\n",
      "\n",
      "False\n",
      "True\n",
      "False\n",
      "True\n",
      "False\n",
      "True\n",
      "a in list1\n",
      "e not in list1\n"
     ]
    }
   ],
   "source": [
    "#5-2\n",
    "str1 = 'abc'\n",
    "str2 = 'Abc'\n",
    "print(str1 == str2)\n",
    "print(str1 != str2)\n",
    "\n",
    "print('\\n')\n",
    "print(str1.lower()== str2.lower())\n",
    "print(str1.lower() != str2.lower())\n",
    "\n",
    "print('\\n')\n",
    "num1 = 123\n",
    "num2 = 456\n",
    "print(num1 == num2)\n",
    "print(num1 != num2)\n",
    "print(num1 > num2)\n",
    "print(num1 < num2)\n",
    "print(num1 >= num2)\n",
    "print(num1 <= num2)\n",
    "\n",
    "\n",
    "list1=['a','b','c']\n",
    "if 'a' in list1:\n",
    "    print('a in list1')\n",
    "if 'e' not in list1:\n",
    "    print('e not in list1')"
   ]
  },
  {
   "cell_type": "markdown",
   "metadata": {},
   "source": [
    "## 5.3 if语句"
   ]
  },
  {
   "cell_type": "code",
   "execution_count": 19,
   "metadata": {},
   "outputs": [
    {
     "name": "stdout",
     "output_type": "stream",
     "text": [
      "Your admission cost is $5.\n"
     ]
    }
   ],
   "source": [
    "age = 12\n",
    "if age < 4:\n",
    "    print(\"Your admission cost is $0.\")\n",
    "elif age < 18:\n",
    "    print(\"Your admission cost is $5.\")\n",
    "else:\n",
    "    print(\"Your admission cost is $10.\")"
   ]
  },
  {
   "cell_type": "code",
   "execution_count": 22,
   "metadata": {},
   "outputs": [
    {
     "name": "stdout",
     "output_type": "stream",
     "text": [
      "Your admission cost is $5.\n"
     ]
    }
   ],
   "source": [
    "age = 12\n",
    "if age < 4:\n",
    "    price = 0\n",
    "elif age < 18:\n",
    "    price = 5\n",
    "else:\n",
    "    price = 10\n",
    "print(\"Your admission cost is $\" + str(price) + \".\")"
   ]
  },
  {
   "cell_type": "code",
   "execution_count": 23,
   "metadata": {},
   "outputs": [
    {
     "name": "stdout",
     "output_type": "stream",
     "text": [
      "Adding mushrooms.\n",
      "Adding extra cheese.\n",
      "\n",
      "Finished making your pizza!\n"
     ]
    }
   ],
   "source": [
    "requested_toppings = ['mushrooms', 'extra cheese']\n",
    "if 'mushrooms' in requested_toppings:\n",
    "    print(\"Adding mushrooms.\")\n",
    "if 'pepperoni' in requested_toppings:\n",
    "    print(\"Adding pepperoni.\")\n",
    "if 'extra cheese' in requested_toppings:\n",
    "    print(\"Adding extra cheese.\")\n",
    "print(\"\\nFinished making your pizza!\")"
   ]
  },
  {
   "cell_type": "code",
   "execution_count": 26,
   "metadata": {},
   "outputs": [
    {
     "name": "stdout",
     "output_type": "stream",
     "text": [
      "Adding mushrooms.\n",
      "\n",
      "Finished making your pizza!\n"
     ]
    }
   ],
   "source": [
    "requested_toppings = ['mushrooms', 'extra cheese']\n",
    "if 'mushrooms' in requested_toppings:\n",
    "    print(\"Adding mushrooms.\")\n",
    "elif 'pepperoni' in requested_toppings:\n",
    "    print(\"Adding pepperoni.\")\n",
    "elif 'extra cheese' in requested_toppings:\n",
    "    print(\"Adding extra cheese.\")\n",
    "print(\"\\nFinished making your pizza!\")\n",
    "#试检查列表中是否包含'mushrooms' ，它通过了，因此将在比萨中添加蘑菇。然而，Python将跳过if-elif-else 结构中余下的测试，不再检查列表中是否包含'extra cheese' 和'pepperoni'"
   ]
  },
  {
   "cell_type": "markdown",
   "metadata": {},
   "source": [
    "## 练习"
   ]
  },
  {
   "cell_type": "markdown",
   "metadata": {},
   "source": [
    "### 5-3 外星人颜色\n",
    "    假设在游戏中刚射杀了一个外星人，请创建一个名为alien_color 的变量，并将其设置为'green' 、'yellow' 或'red' 。\n",
    "    编写一条if 语句，检查外星人是否是绿色的；如果是，就打印一条消息，指出玩家获得了5个点。\n",
    "    编写这个程序的两个版本，在一个版本中上述测试通过了，而在另一个版本中未通过（未通过测试时没有输出）。\n",
    "### 5-4 外星人颜色\n",
    "    像练习5-3那样设置外星人的颜色，并编写一个if-else 结构。\n",
    "    如果外星人是绿色的，就打印一条消息，指出玩家因射杀该外星人获得了5个点。\n",
    "    如果外星人不是绿色的，就打印一条消息，指出玩家获得了10个点。\n",
    "    编写这个程序的两个版本，在一个版本中执行if 代码块，而在另一个版本中执行else 代码块。\n",
    "### 5-5 外星人颜色\n",
    "    将练习5-4中的if-else 结构改为if-elif-else 结构。\n",
    "    如果外星人是绿色的，就打印一条消息，指出玩家获得了5个点。\n",
    "    如果外星人是黄色的，就打印一条消息，指出玩家获得了10个点。\n",
    "    如果外星人是红色的，就打印一条消息，指出玩家获得了15个点。\n",
    "    编写这个程序的三个版本，它们分别在外星人为绿色、黄色和红色时打印一条消息。\n",
    "### 5-6 人生的不同阶段\n",
    "    设置变量age 的值，再编写一个if-elif-else 结构，根据age 的值判断处于人生的哪个阶段。\n",
    "    如果一个人的年龄小于2岁，就打印一条消息，指出他是婴儿。\n",
    "    如果一个人的年龄为2（含）～4岁，就打印一条消息，指出他正蹒跚学步。\n",
    "    如果一个人的年龄为4（含）～13岁，就打印一条消息，指出他是儿童。\n",
    "    如果一个人的年龄为13（含）～20岁，就打印一条消息，指出他是青少年。\n",
    "    如果一个人的年龄为20（含）～65岁，就打印一条消息，指出他是成年人。\n",
    "    如果一个人的年龄超过65（含）岁，就打印一条消息，指出他是老年人。\n",
    "### 5-7 喜欢的水果\n",
    "    创建一个列表，其中包含你喜欢的水果，再编写一系列独立的if 语句，检查列表中是否包含特定的水果。\n",
    "    将该列表命名为favorite_fruits ，并在其中包含三种水果。\n",
    "    编写5条if 语句，每条都检查某种水果是否包含在列表中，如果包含在列表中，就打印一条消息，如“You really like bananas!”。"
   ]
  },
  {
   "cell_type": "code",
   "execution_count": 4,
   "metadata": {},
   "outputs": [
    {
     "name": "stdout",
     "output_type": "stream",
     "text": [
      "You get five point\n"
     ]
    }
   ],
   "source": [
    "#5-3\n",
    "alien_colcor = 'green'\n",
    "if alien_colcor == 'green':\n",
    "    print('You get five point')\n",
    "if alien_colcor == 'red':\n",
    "    print('You get five point')"
   ]
  },
  {
   "cell_type": "code",
   "execution_count": 2,
   "metadata": {},
   "outputs": [
    {
     "name": "stdout",
     "output_type": "stream",
     "text": [
      "You get five point\n"
     ]
    }
   ],
   "source": [
    "#5-4\n",
    "alien_colcor = 'green'\n",
    "if alien_colcor == 'green':\n",
    "    print('You get five point')\n",
    "else:\n",
    "    print('You get ten point')"
   ]
  },
  {
   "cell_type": "code",
   "execution_count": 3,
   "metadata": {},
   "outputs": [
    {
     "name": "stdout",
     "output_type": "stream",
     "text": [
      "You get five point\n"
     ]
    }
   ],
   "source": [
    "#5-5 \n",
    "alien_colcor = 'green'\n",
    "if alien_colcor == 'green':\n",
    "    print('You get five point')\n",
    "elif alien_colcor == 'yellow':\n",
    "    print('You get ten point')\n",
    "elif alien_colcor == 'red':\n",
    "    print('You get fifteen point')"
   ]
  },
  {
   "cell_type": "code",
   "execution_count": 5,
   "metadata": {},
   "outputs": [
    {
     "name": "stdout",
     "output_type": "stream",
     "text": [
      "Aged\n"
     ]
    }
   ],
   "source": [
    "#5-6\n",
    "age = 66\n",
    "if age <2:\n",
    "    print('Baby')\n",
    "elif age >=2 and age <4:\n",
    "    print('Toddler')\n",
    "elif age >=4 and age <13:\n",
    "    print('Child')\n",
    "elif age >=13 and age <20:\n",
    "    print('Teenager')\n",
    "elif age >=20 and age <65:\n",
    "    print('Adult')\n",
    "else:\n",
    "    print('Aged')"
   ]
  },
  {
   "cell_type": "code",
   "execution_count": 6,
   "metadata": {},
   "outputs": [
    {
     "name": "stdout",
     "output_type": "stream",
     "text": [
      "You really like bananas\n",
      "You really like apples\n",
      "You really like oranges\n",
      "You really like litchi\n",
      "You really like Durian\n"
     ]
    }
   ],
   "source": [
    "#5-7\n",
    "fruits = ['bananas','apples','oranges','litchi','Durian']\n",
    "if 'bananas' in fruits:\n",
    "    print('You really like bananas')\n",
    "if 'apples' in fruits:\n",
    "    print('You really like apples')\n",
    "if 'oranges' in fruits:\n",
    "    print('You really like oranges')\n",
    "if 'litchi' in fruits:\n",
    "    print('You really like litchi')\n",
    "if 'Durian' in fruits:\n",
    "    print('You really like Durian')"
   ]
  },
  {
   "cell_type": "code",
   "execution_count": null,
   "metadata": {},
   "outputs": [],
   "source": []
  }
 ],
 "metadata": {
  "kernelspec": {
   "display_name": "Python 3",
   "language": "python",
   "name": "python3"
  },
  "language_info": {
   "codemirror_mode": {
    "name": "ipython",
    "version": 3
   },
   "file_extension": ".py",
   "mimetype": "text/x-python",
   "name": "python",
   "nbconvert_exporter": "python",
   "pygments_lexer": "ipython3",
   "version": "3.8.3"
  }
 },
 "nbformat": 4,
 "nbformat_minor": 4
}
